{
 "cells": [
  {
   "cell_type": "code",
   "execution_count": null,
   "metadata": {
    "collapsed": true
   },
   "outputs": [],
   "source": [
    "import matplotlib.pyplot as plt\n",
    "%matplotlib inline\n",
    "plt.rc('text', usetex = True)\n",
    "\n",
    "import matplotlib as mpl\n",
    "mpl.rcParams[\"font.family\"] = \"serif\"\n",
    "mpl.rcParams[\"font.size\"] = \"15\""
   ]
  },
  {
   "cell_type": "code",
   "execution_count": null,
   "metadata": {},
   "outputs": [],
   "source": [
    "with open('ae_loss.csv', 'r') as f:\n",
    "    \n",
    "    ae_loss = f.readlines()\n",
    "\n",
    "print(ae_loss[0])"
   ]
  },
  {
   "cell_type": "code",
   "execution_count": null,
   "metadata": {
    "collapsed": true
   },
   "outputs": [],
   "source": [
    "idx = list()\n",
    "loss = list()\n",
    "\n",
    "for l in ae_loss:\n",
    "    \n",
    "    l = l.replace('\\n', '')\n",
    "    l = l.split(',')\n",
    "    idx.append(l[0])\n",
    "    loss.append(l[1])"
   ]
  },
  {
   "cell_type": "code",
   "execution_count": null,
   "metadata": {},
   "outputs": [],
   "source": [
    "fig, ax = plt.subplots(figsize = (8, 5))\n",
    "\n",
    "ax.plot(idx, loss, 'r', lw = 2, label=r\"$\\mathbb{L}_{reconstruct}$\")\n",
    "ax.set_title(\"Loss\\n(Autoencoder)\")\n",
    "ax.legend()\n",
    "ax.set_ylabel(r'$loss$', fontsize = 18)\n",
    "ax.set_xlabel(r'$iteration$', fontsize = 18)\n",
    "fig.tight_layout()\n",
    "plt.show()\n",
    "fig.savefig('ae_loss_plot.pdf')"
   ]
  },
  {
   "cell_type": "code",
   "execution_count": null,
   "metadata": {},
   "outputs": [],
   "source": [
    "with open('ae_target_loss.csv', 'r') as f:\n",
    "    \n",
    "    ae_target_loss = f.readlines()\n",
    "\n",
    "print(ae_target_loss[0])"
   ]
  },
  {
   "cell_type": "code",
   "execution_count": null,
   "metadata": {
    "collapsed": true
   },
   "outputs": [],
   "source": [
    "idx = list()\n",
    "loss1 = list()\n",
    "loss2 = list()\n",
    "loss3 = list()\n",
    "\n",
    "for l in ae_target_loss:\n",
    "    \n",
    "    l = l.replace('\\n', '')\n",
    "    l = l.split(',')\n",
    "    idx.append(l[0])\n",
    "    loss1.append(l[1])\n",
    "    loss2.append(l[2])\n",
    "    loss3.append(l[3])"
   ]
  },
  {
   "cell_type": "code",
   "execution_count": null,
   "metadata": {},
   "outputs": [],
   "source": [
    "fig, ax = plt.subplots(figsize=(8, 5))\n",
    "\n",
    "ax.plot(idx, loss1, 'r', lw = 2, label = r\"$\\mathbb{L}_{reconstruct}$\")\n",
    "ax.plot(idx, loss2, 'g', lw = 2, label = r\"$\\mathbb{L}_{latent (cycle)}$\")\n",
    "ax.plot(idx, loss3, 'b', lw = 2, label = r\"$\\mathbb{L}_{target}$\")\n",
    "ax.set_title(\"Loss\\n(Autoencoder + Target)\")\n",
    "ax.legend()\n",
    "ax.set_ylabel(r'$loss$', fontsize = 18)\n",
    "ax.set_xlabel(r'$iteration$', fontsize = 18)\n",
    "fig.tight_layout()\n",
    "plt.show()\n",
    "fig.savefig('ae_target_loss_plot.pdf')"
   ]
  },
  {
   "cell_type": "code",
   "execution_count": null,
   "metadata": {},
   "outputs": [],
   "source": [
    "with open('ae_target_gan_loss.csv', 'r') as f:\n",
    "    \n",
    "    ae_target_gan_loss = f.readlines()\n",
    "\n",
    "print(ae_target_gan_loss[0])"
   ]
  },
  {
   "cell_type": "code",
   "execution_count": null,
   "metadata": {},
   "outputs": [],
   "source": [
    "idx = list()\n",
    "loss1 = list()\n",
    "loss2 = list()\n",
    "loss3 = list()\n",
    "loss4 = list()\n",
    "\n",
    "for l in ae_target_gan_loss:\n",
    "    \n",
    "    l = l.replace('\\n', '')\n",
    "    l = l.split(',')\n",
    "    idx.append(l[0])\n",
    "    loss1.append(l[1])\n",
    "    loss2.append(l[2])\n",
    "    loss3.append(l[3])\n",
    "    loss4.append(l[5])"
   ]
  },
  {
   "cell_type": "code",
   "execution_count": null,
   "metadata": {},
   "outputs": [],
   "source": [
    "fig, ax = plt.subplots(figsize=(8, 5))\n",
    "\n",
    "ax.plot(idx, loss1, 'r', lw = 2, label = r\"$\\mathbb{L}_{reconstruct}$\")\n",
    "ax.plot(idx, loss2, 'g', lw = 2, label = r\"$\\mathbb{L}_{latent (cycle)}$\")\n",
    "ax.plot(idx, loss3, 'b', lw = 2, label = r\"$\\mathbb{L}_{target}$\")\n",
    "ax.plot(idx, loss4, 'k', lw = 2, label = r\"$\\mathbb{L}_{GAN}$\")\n",
    "ax.set_title(\"Loss\\n(Autoencoder + Target + GAN)\")\n",
    "ax.legend()\n",
    "ax.set_ylabel(r'$loss$', fontsize = 18)\n",
    "ax.set_xlabel(r'$iteration$', fontsize = 18)\n",
    "fig.tight_layout()\n",
    "plt.show()\n",
    "fig.savefig('ae_target_gan_loss_plot.pdf')"
   ]
  }
 ],
 "metadata": {
  "kernelspec": {
   "display_name": "Python 3",
   "language": "python",
   "name": "python3"
  },
  "language_info": {
   "codemirror_mode": {
    "name": "ipython",
    "version": 3
   },
   "file_extension": ".py",
   "mimetype": "text/x-python",
   "name": "python",
   "nbconvert_exporter": "python",
   "pygments_lexer": "ipython3",
   "version": "3.6.2"
  }
 },
 "nbformat": 4,
 "nbformat_minor": 2
}
